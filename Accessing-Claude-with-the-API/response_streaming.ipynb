{
 "cells": [
  {
   "cell_type": "code",
   "execution_count": 10,
   "id": "ca6f5cb0",
   "metadata": {},
   "outputs": [],
   "source": [
    "from anthropic import Anthropic\n",
    "\n",
    "from dotenv import load_dotenv\n",
    "import os\n",
    "load_dotenv()\n",
    "\n",
    "MODEL=\"claude-3-haiku-20240307\"\n",
    "TEMPERATURE=0.7\n",
    "SYSTEM_PROMT=\"You are a assistant that answers questions in one sentence.\"\n",
    "\n",
    "try:\n",
    "    client = Anthropic(api_key=os.getenv(\"ANTHROPIC_API_KEY\"))\n",
    "except Exception as e:\n",
    "    print(f\"Error initializing Anthropic client: {e}\")"
   ]
  },
  {
   "cell_type": "code",
   "execution_count": null,
   "id": "aa70136d",
   "metadata": {},
   "outputs": [],
   "source": [
    "messages = []\n",
    "\n",
    "def add_user_message(messages, text):\n",
    "    messages.append({\"role\": \"user\", \"content\": text})\n",
    "    "
   ]
  },
  {
   "cell_type": "code",
   "execution_count": null,
   "id": "9a042793",
   "metadata": {},
   "outputs": [
    {
     "name": "stdout",
     "output_type": "stream",
     "text": [
      "A fake database is a fictional collection of data that does not exist in reality, but is created for the purpose of testing, demonstration, or educational use."
     ]
    }
   ],
   "source": [
    "user = \"write a 1 sentence description of a fake database\"\n",
    "add_user_message(messages, user)\n",
    "\n",
    "with client.messages.stream(\n",
    "    model=MODEL,\n",
    "    messages=messages,\n",
    "    system=SYSTEM_PROMT,\n",
    "    temperature=TEMPERATURE,\n",
    "    max_tokens=1000,\n",
    ") as stream:\n",
    "    for chunk in stream.text_stream:\n",
    "        print(chunk, end='', flush=True)"
   ]
  },
  {
   "cell_type": "code",
   "execution_count": null,
   "id": "909b2458",
   "metadata": {},
   "outputs": [],
   "source": []
  }
 ],
 "metadata": {
  "kernelspec": {
   "display_name": "HelloWorld-Claude",
   "language": "python",
   "name": "python3"
  },
  "language_info": {
   "codemirror_mode": {
    "name": "ipython",
    "version": 3
   },
   "file_extension": ".py",
   "mimetype": "text/x-python",
   "name": "python",
   "nbconvert_exporter": "python",
   "pygments_lexer": "ipython3",
   "version": "3.13.2"
  }
 },
 "nbformat": 4,
 "nbformat_minor": 5
}
