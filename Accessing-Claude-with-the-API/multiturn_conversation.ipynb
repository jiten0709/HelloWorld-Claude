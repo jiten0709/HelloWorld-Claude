{
 "cells": [
  {
   "cell_type": "code",
   "execution_count": 1,
   "id": "f55d88ab",
   "metadata": {},
   "outputs": [
    {
     "data": {
      "text/plain": [
       "True"
      ]
     },
     "execution_count": 1,
     "metadata": {},
     "output_type": "execute_result"
    }
   ],
   "source": [
    "from anthropic import Anthropic\n",
    "\n",
    "from dotenv import load_dotenv\n",
    "import os\n",
    "load_dotenv()"
   ]
  },
  {
   "cell_type": "code",
   "execution_count": 2,
   "id": "3fade03b",
   "metadata": {},
   "outputs": [],
   "source": [
    "MODEL=\"claude-3-haiku-20240307\"\n",
    "TEMPERATURE=0.7\n",
    "SYSTEM_PROMT=\"You are a assistant that answers questions in one sentence.\"\n",
    "\n",
    "try:\n",
    "    client = Anthropic(api_key=os.getenv(\"ANTHROPIC_API_KEY\"))\n",
    "except Exception as e:\n",
    "    print(f\"Error initializing Anthropic client: {e}\")"
   ]
  },
  {
   "cell_type": "code",
   "execution_count": 3,
   "id": "6a521cf1",
   "metadata": {},
   "outputs": [],
   "source": [
    "messages = []\n",
    "\n",
    "def add_user_message(messages, text):\n",
    "    messages.append({\"role\": \"user\", \"content\": text})\n",
    "\n",
    "def add_assistant_message(messages, text):\n",
    "    messages.append({\"role\": \"assistant\", \"content\": text})\n",
    "\n",
    "def get_response(messages):\n",
    "    message = client.messages.create(\n",
    "        model=MODEL,\n",
    "        max_tokens=1000,\n",
    "        temperature=TEMPERATURE,\n",
    "        system=SYSTEM_PROMT,\n",
    "        messages=messages\n",
    "    )\n",
    "\n",
    "    return message.content[0].text\n",
    "\n",
    "def chat_with_assistant(user_input):\n",
    "    add_user_message(messages, user_input)\n",
    "    response = get_response(messages)\n",
    "    add_assistant_message(messages, response)\n",
    "    \n",
    "    return response"
   ]
  },
  {
   "cell_type": "code",
   "execution_count": 4,
   "id": "27342e02",
   "metadata": {},
   "outputs": [
    {
     "name": "stdout",
     "output_type": "stream",
     "text": [
      "Assistant: AI (Artificial Intelligence) refers to the development of computer systems and algorithms that can perform tasks that typically require human intelligence, such as learning, problem-solving, decision-making, and perception.\n",
      "Assistant: The main pros of AI include increased efficiency, accuracy, and speed in various tasks, the ability to handle large amounts of data, and the potential to automate repetitive or dangerous jobs, ultimately improving productivity and enhancing human capabilities.\n",
      "Exiting the conversation.\n"
     ]
    }
   ],
   "source": [
    "while True:\n",
    "    user_input = input(\"You: \")\n",
    "    if user_input.lower() in [\"exit\", \"quit\", \"q\"]:\n",
    "        print(\"Exiting the conversation.\")\n",
    "        break\n",
    "\n",
    "    response = chat_with_assistant(user_input)\n",
    "\n",
    "    print(f\"Assistant: {response}\")"
   ]
  },
  {
   "cell_type": "code",
   "execution_count": 5,
   "id": "4f41560e",
   "metadata": {},
   "outputs": [
    {
     "name": "stdout",
     "output_type": "stream",
     "text": [
      "[{'role': 'user', 'content': 'what is ai?'}, {'role': 'assistant', 'content': 'AI (Artificial Intelligence) refers to the development of computer systems and algorithms that can perform tasks that typically require human intelligence, such as learning, problem-solving, decision-making, and perception.'}, {'role': 'user', 'content': 'what are the pros of it?'}, {'role': 'assistant', 'content': 'The main pros of AI include increased efficiency, accuracy, and speed in various tasks, the ability to handle large amounts of data, and the potential to automate repetitive or dangerous jobs, ultimately improving productivity and enhancing human capabilities.'}]\n"
     ]
    }
   ],
   "source": [
    "print(messages)"
   ]
  }
 ],
 "metadata": {
  "kernelspec": {
   "display_name": "HelloWorld-Claude",
   "language": "python",
   "name": "python3"
  },
  "language_info": {
   "codemirror_mode": {
    "name": "ipython",
    "version": 3
   },
   "file_extension": ".py",
   "mimetype": "text/x-python",
   "name": "python",
   "nbconvert_exporter": "python",
   "pygments_lexer": "ipython3",
   "version": "3.13.2"
  }
 },
 "nbformat": 4,
 "nbformat_minor": 5
}
