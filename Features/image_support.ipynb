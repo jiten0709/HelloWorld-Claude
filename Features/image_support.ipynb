{
 "cells": [
  {
   "cell_type": "code",
   "execution_count": 8,
   "id": "62b6fe68",
   "metadata": {},
   "outputs": [
    {
     "name": "stderr",
     "output_type": "stream",
     "text": [
      "2025-08-10 20:50:26 - __main__ - INFO - Anthropic client created successfully.\n"
     ]
    }
   ],
   "source": [
    "from anthropic import Anthropic\n",
    "from anthropic.types import Message\n",
    "import base64\n",
    "from PIL import Image\n",
    "import io\n",
    "\n",
    "from dotenv import load_dotenv\n",
    "import os   \n",
    "load_dotenv()\n",
    "\n",
    "import logging\n",
    "logging.basicConfig(\n",
    "    level=logging.INFO,\n",
    "    format='%(asctime)s - %(name)s - %(levelname)s - %(message)s',\n",
    "    datefmt='%Y-%m-%d %H:%M:%S'\n",
    ")\n",
    "logger = logging.getLogger(__name__)\n",
    "\n",
    "try:\n",
    "    client = Anthropic(\n",
    "        api_key=os.getenv(\"ANTHROPIC_API_KEY\"),\n",
    "    )\n",
    "    logger.info(\"Anthropic client created successfully.\")\n",
    "except Exception as e:\n",
    "    logger.error(f\"Failed to create Anthropic client: {e}\")\n",
    "    raise"
   ]
  },
  {
   "cell_type": "code",
   "execution_count": 9,
   "id": "3078ec96",
   "metadata": {},
   "outputs": [],
   "source": [
    "MODEL=\"claude-3-7-sonnet-20250219\"\n",
    "TEMPERATURE=1.0"
   ]
  },
  {
   "cell_type": "code",
   "execution_count": 10,
   "id": "c105649c",
   "metadata": {},
   "outputs": [],
   "source": [
    "def add_user_message(messages, message_content):\n",
    "    if isinstance(message_content, list):\n",
    "        user_message = {\n",
    "            \"role\": \"user\",\n",
    "            \"content\": message_content\n",
    "        }\n",
    "    else:\n",
    "        user_message = {\n",
    "            \"role\": \"user\",\n",
    "            \"content\": [{\"type\": \"text\", \"text\": str(message_content)}]\n",
    "        }\n",
    "\n",
    "    messages.append(user_message)\n",
    "\n",
    "\n",
    "def add_assistant_message(messages, message_content):\n",
    "    if isinstance(message_content, Message):\n",
    "        assistant_message = {\n",
    "            \"role\": \"assistant\",\n",
    "            \"content\": message_content\n",
    "        }\n",
    "    else:\n",
    "        assistant_message = {\n",
    "            \"role\": \"assistant\",\n",
    "            \"content\": [{\"type\": \"text\", \"text\": message_content}]\n",
    "        }\n",
    "\n",
    "    messages.append(assistant_message)\n",
    "\n",
    "def chat(messages, model=MODEL, temperature=TEMPERATURE, system=None, stop_sequences=None, thinking=False, thinking_budget=1024, tools=None):\n",
    "    try:\n",
    "        params = {\n",
    "            \"model\": model,\n",
    "            \"max_tokens\": 4000,\n",
    "            \"messages\": messages,\n",
    "            \"temperature\": temperature,\n",
    "            \"stop_sequences\": stop_sequences,\n",
    "        }\n",
    "        \n",
    "        if thinking:\n",
    "            params[\"thinking\"] = {\n",
    "                \"type\": \"enabled\",\n",
    "                \"budget_tokens\": thinking_budget\n",
    "            }\n",
    "        \n",
    "        if tools:\n",
    "            params[\"tools\"] = tools\n",
    "\n",
    "        if system:\n",
    "            params[\"system\"] = system\n",
    "\n",
    "        return client.messages.create(**params)\n",
    "    \n",
    "    except Exception as e:\n",
    "        logger.error(f\"Chat failed: {e}\")\n",
    "        raise e\n",
    "    \n",
    "def text_from_message(message):\n",
    "    return \"\\n\".join(\n",
    "        [block.text for block in message.content if block.type == \"text\"]\n",
    "    )"
   ]
  },
  {
   "cell_type": "code",
   "execution_count": 11,
   "id": "75350b27",
   "metadata": {},
   "outputs": [],
   "source": [
    "RISK_ASSESSMENT_PROMPT = \"\"\"\n",
    "Analyze the attached satellite image of a property with these specific steps:\n",
    "\n",
    "1. Residence identification: Locate the primary residence on the property by looking for:\n",
    "   - The largest roofed structure \n",
    "   - Typical residential features (driveway connection, regular geometry)\n",
    "   - Distinction from other structures (garages, sheds, pools)\n",
    "   Describe the residence's location relative to property boundaries and other features.\n",
    "\n",
    "2. Tree overhang analysis: Examine all trees near the primary residence:\n",
    "   - Identify any trees whose canopy extends directly over any portion of the roof\n",
    "   - Estimate the percentage of roof covered by overhanging branches (0-25%, 25-50%, 50-75%, 75-100%)\n",
    "   - Note particularly dense areas of overhang\n",
    "\n",
    "3. Fire risk assessment: For any overhanging trees, evaluate:\n",
    "   - Potential wildfire vulnerability (ember catch points, continuous fuel paths to structure)\n",
    "   - Proximity to chimneys, vents, or other roof openings if visible\n",
    "   - Areas where branches create a \"bridge\" between wildland vegetation and the structure\n",
    "   \n",
    "4. Defensible space identification: Assess the property's overall vegetative structure:\n",
    "   - Identify if trees connect to form a continuous canopy over or near the home\n",
    "   - Note any obvious fuel ladders (vegetation that can carry fire from ground to tree to roof)\n",
    "\n",
    "5. Fire risk rating: Based on your analysis, assign a Fire Risk Rating from 1-4:\n",
    "   - Rating 1 (Low Risk): No tree branches overhanging the roof, good defensible space around the structure\n",
    "   - Rating 2 (Moderate Risk): Minimal overhang (<25% of roof), some separation between tree canopies\n",
    "   - Rating 3 (High Risk): Significant overhang (25-50% of roof), connected tree canopies, multiple points of vulnerability\n",
    "   - Rating 4 (Severe Risk): Extensive overhang (>50% of roof), dense vegetation against structure, numerous ember catch points, limited defensible space\n",
    "\n",
    "For each item above (1-5), write one sentence summarizing your findings, with your final response being the numeric Fire Risk Rating (1-4) with a brief justification.\n",
    "\"\"\""
   ]
  },
  {
   "cell_type": "code",
   "execution_count": 12,
   "id": "60b050f0",
   "metadata": {},
   "outputs": [],
   "source": [
    "def compress_image(img_file, max_size=(1024, 1024), quality=85):\n",
    "    \"\"\"Compress image to reduce file size\"\"\"\n",
    "    try:\n",
    "        with Image.open(img_file) as img:\n",
    "            # Convert to RGB if necessary\n",
    "            if img.mode != 'RGB':\n",
    "                img = img.convert('RGB')\n",
    "            \n",
    "            # Resize if too large\n",
    "            img.thumbnail(max_size, Image.Resampling.LANCZOS)\n",
    "            \n",
    "            # Save to bytes\n",
    "            buffer = io.BytesIO()\n",
    "            img.save(buffer, format='JPEG', quality=quality)\n",
    "            return buffer.getvalue()\n",
    "    except Exception as e:\n",
    "        logger.error(f\"Failed to compress image: {e}\")\n",
    "        raise e\n",
    "    \n",
    "def upload_image(img_file, messages):\n",
    "    try:\n",
    "        compressed_image = compress_image(img_file)\n",
    "        image_bytes = base64.standard_b64encode(compressed_image).decode(\"utf-8\")\n",
    "\n",
    "        add_user_message(messages, [\n",
    "            # Image Block\n",
    "            {\n",
    "                \"type\": \"image\",\n",
    "                \"source\": {\n",
    "                    \"type\": \"base64\",\n",
    "                    \"media_type\": \"image/jpeg\",\n",
    "                    \"data\": image_bytes,\n",
    "                }\n",
    "            },\n",
    "            # Text Block\n",
    "            {\n",
    "                \"type\": \"text\",\n",
    "                \"text\": \"What do you see in this image?\"\n",
    "            }\n",
    "        ])\n",
    "        logger.info(\"Image uploaded successfully.\")\n",
    "    except Exception as e:\n",
    "        logger.error(f\"Failed to upload image: {e}\")\n",
    "        raise e"
   ]
  },
  {
   "cell_type": "code",
   "execution_count": 13,
   "id": "b9c8a9e0",
   "metadata": {},
   "outputs": [],
   "source": [
    "def main(img_file):\n",
    "    messages = []\n",
    "    \n",
    "    try:\n",
    "        # Print user input\n",
    "        print(\"=\" * 50)\n",
    "        print(\"USER:\")\n",
    "        print(\"=\" * 50)\n",
    "        print(f\"Image file: {img_file}\")\n",
    "        print(\"Analyzing image for fire risk...\")\n",
    "        print()\n",
    "        \n",
    "        upload_image(img_file, messages) \n",
    "        add_user_message(messages, RISK_ASSESSMENT_PROMPT)\n",
    "\n",
    "        logger.info(\"Starting chat with model...\")\n",
    "        results = chat(messages, model=MODEL, temperature=TEMPERATURE, thinking=True, thinking_budget=1024)\n",
    "        logger.info(\"Chat completed successfully.\")\n",
    "        \n",
    "        print(\"=\" * 50)\n",
    "        print(\"ASSISTANT:\")\n",
    "        print(\"=\" * 50)\n",
    "        print(text_from_message(results))\n",
    "        print()\n",
    "        \n",
    "        return results\n",
    "\n",
    "    except Exception as e:\n",
    "        logger.error(f\"Error in main function: {e}\")\n",
    "        raise e"
   ]
  },
  {
   "cell_type": "code",
   "execution_count": 14,
   "id": "7b5d95fc",
   "metadata": {},
   "outputs": [
    {
     "name": "stdout",
     "output_type": "stream",
     "text": [
      "==================================================\n",
      "USER:\n",
      "==================================================\n",
      "Image file: assets/images/prop1.png\n",
      "Analyzing image for fire risk...\n",
      "\n"
     ]
    },
    {
     "name": "stderr",
     "output_type": "stream",
     "text": [
      "2025-08-10 20:50:26 - __main__ - INFO - Image uploaded successfully.\n",
      "2025-08-10 20:50:26 - __main__ - INFO - Starting chat with model...\n",
      "2025-08-10 20:50:40 - httpx - INFO - HTTP Request: POST https://api.anthropic.com/v1/messages \"HTTP/1.1 200 OK\"\n",
      "2025-08-10 20:50:40 - __main__ - INFO - Chat completed successfully.\n"
     ]
    },
    {
     "name": "stdout",
     "output_type": "stream",
     "text": [
      "==================================================\n",
      "ASSISTANT:\n",
      "==================================================\n",
      "# Property Fire Risk Analysis\n",
      "\n",
      "Looking at this aerial image, I can see a primary residence situated in the center of the property, surrounded by dense tree coverage. The structure appears to have a grayish/brown roof and is partially obscured by surrounding vegetation.\n",
      "\n",
      "The trees around the residence show significant canopy coverage extending over the roof, with approximately 25-50% of the roof area affected by overhanging branches, particularly on what appears to be the northern and eastern sides of the structure.\n",
      "\n",
      "From a fire risk perspective, these overhanging branches create numerous potential ember catch points, with the dense vegetation forming continuous fuel paths directly to the structure, which could allow fire to spread quickly from the surrounding wildland to the building.\n",
      "\n",
      "The property shows limited defensible space, with trees forming an almost continuous canopy connecting the surrounding woodland directly to the residence, creating multiple fuel ladders that could carry fire from ground level to the structure's roof.\n",
      "\n",
      "**Fire Risk Rating: 3 (High Risk)** - The significant tree overhang covering approximately 25-50% of the roof, connected tree canopies, multiple vulnerability points, and limited defensible space around the structure all contribute to an elevated fire risk that would benefit from vegetation management.\n",
      "\n"
     ]
    }
   ],
   "source": [
    "results = main(\"assets/images/prop1.png\")"
   ]
  },
  {
   "cell_type": "code",
   "execution_count": 15,
   "id": "4cef768f",
   "metadata": {},
   "outputs": [
    {
     "name": "stdout",
     "output_type": "stream",
     "text": [
      "Message(id='msg_011WgotDRXk1TRXtx1TAKqK3', content=[ThinkingBlock(signature='ErUBCkYIBhgCIkBxl3baEE20hOUk9vpfnktgShHdvJ7syFcZG3/IEEJrKOiRvO6FCrihh6uRxWIpaCfuS5EPGuRvAU2+cJyBf2xkEgy/o5J3cAxsHu6s8RwaDDXwW4q/97/gDE5xaSIwjTFVcIohz4lVDmYaxifGxHO2CHgFaXGdW7MhzcF7AGX+hxh6EavsyBM8c8eBbodKKh2rhjTnD4QGx0qbSQX92vPfBtKSw5z7jrxqMf/XfRgC', thinking=\"Let me analyze this satellite image of a property, following the requested steps:\\n\\n1. Residence identification:\\nI can see what appears to be a structure in the middle of the image, partially obscured by trees. It has a brownish/grayish roof and seems to be a house or similar building. It's situated in a clearing surrounded by trees and green space.\\n\\n2. Tree overhang analysis:\\nThere appear to be multiple trees surrounding the structure, and some of them seem to have canopies that extend over portions of the roof. Based on the image, I'd estimate that approximately 25-50% of the roof may be covered by overhanging branches. The trees appear quite dense and close to the structure.\\n\\n3. Fire risk assessment:\\nThe overhanging trees create potential ember catch points on the roof. The dense vegetation around the structure creates a continuous fuel path that could lead fire directly to the structure. I can't clearly identify chimneys or vents due to the image resolution and tree coverage, but the close proximity of trees to the building creates multiple potential fire bridges.\\n\\n4. Defensible space identification:\\nThe trees appear to form a relatively continuous canopy around the home, with limited clear space between the structure and the surrounding vegetation. There seems to be vegetation of varying heights around the structure, potentially creating fuel ladders from the ground to the tree canopies and then to the roof.\\n\\n5. Fire risk rating:\\nBased on the analysis, I would assign a Fire Risk Rating of 3 (High Risk) because there appears to be significant tree overhang (approximately 25-50% of the roof), connected tree canopies around the structure, and multiple points of vulnerability with limited defensible space between the vegetation and the building.\", type='thinking'), TextBlock(citations=None, text=\"# Property Fire Risk Analysis\\n\\nLooking at this aerial image, I can see a primary residence situated in the center of the property, surrounded by dense tree coverage. The structure appears to have a grayish/brown roof and is partially obscured by surrounding vegetation.\\n\\nThe trees around the residence show significant canopy coverage extending over the roof, with approximately 25-50% of the roof area affected by overhanging branches, particularly on what appears to be the northern and eastern sides of the structure.\\n\\nFrom a fire risk perspective, these overhanging branches create numerous potential ember catch points, with the dense vegetation forming continuous fuel paths directly to the structure, which could allow fire to spread quickly from the surrounding wildland to the building.\\n\\nThe property shows limited defensible space, with trees forming an almost continuous canopy connecting the surrounding woodland directly to the residence, creating multiple fuel ladders that could carry fire from ground level to the structure's roof.\\n\\n**Fire Risk Rating: 3 (High Risk)** - The significant tree overhang covering approximately 25-50% of the roof, connected tree canopies, multiple vulnerability points, and limited defensible space around the structure all contribute to an elevated fire risk that would benefit from vegetation management.\", type='text')], model='claude-3-7-sonnet-20250219', role='assistant', stop_reason='end_turn', stop_sequence=None, type='message', usage=Usage(cache_creation_input_tokens=0, cache_read_input_tokens=0, input_tokens=1583, output_tokens=644, server_tool_use=None, service_tier='standard'))\n"
     ]
    }
   ],
   "source": [
    "print(results)"
   ]
  },
  {
   "cell_type": "code",
   "execution_count": 16,
   "id": "3e290457",
   "metadata": {},
   "outputs": [
    {
     "name": "stdout",
     "output_type": "stream",
     "text": [
      "thinking signature: \n",
      "ErUBCkYIBhgCIkBxl3baEE20hOUk9vpfnktgShHdvJ7syFcZG3/IEEJrKOiRvO6FCrihh6uRxWIpaCfuS5EPGuRvAU2+cJyBf2xkEgy/o5J3cAxsHu6s8RwaDDXwW4q/97/gDE5xaSIwjTFVcIohz4lVDmYaxifGxHO2CHgFaXGdW7MhzcF7AGX+hxh6EavsyBM8c8eBbodKKh2rhjTnD4QGx0qbSQX92vPfBtKSw5z7jrxqMf/XfRgC\n",
      "\n",
      "thinking content: \n",
      "Let me analyze this satellite image of a property, following the requested steps:\n",
      "\n",
      "1. Residence identification:\n",
      "I can see what appears to be a structure in the middle of the image, partially obscured by trees. It has a brownish/grayish roof and seems to be a house or similar building. It's situated in a clearing surrounded by trees and green space.\n",
      "\n",
      "2. Tree overhang analysis:\n",
      "There appear to be multiple trees surrounding the structure, and some of them seem to have canopies that extend over portions of the roof. Based on the image, I'd estimate that approximately 25-50% of the roof may be covered by overhanging branches. The trees appear quite dense and close to the structure.\n",
      "\n",
      "3. Fire risk assessment:\n",
      "The overhanging trees create potential ember catch points on the roof. The dense vegetation around the structure creates a continuous fuel path that could lead fire directly to the structure. I can't clearly identify chimneys or vents due to the image resolution and tree coverage, but the close proximity of trees to the building creates multiple potential fire bridges.\n",
      "\n",
      "4. Defensible space identification:\n",
      "The trees appear to form a relatively continuous canopy around the home, with limited clear space between the structure and the surrounding vegetation. There seems to be vegetation of varying heights around the structure, potentially creating fuel ladders from the ground to the tree canopies and then to the roof.\n",
      "\n",
      "5. Fire risk rating:\n",
      "Based on the analysis, I would assign a Fire Risk Rating of 3 (High Risk) because there appears to be significant tree overhang (approximately 25-50% of the roof), connected tree canopies around the structure, and multiple points of vulnerability with limited defensible space between the vegetation and the building.\n"
     ]
    }
   ],
   "source": [
    "print(f\"thinking signature: \\n{results.content[0].signature}\")\n",
    "print(f\"\\nthinking content: \\n{results.content[0].thinking}\")"
   ]
  },
  {
   "cell_type": "code",
   "execution_count": null,
   "id": "018e789f",
   "metadata": {},
   "outputs": [],
   "source": []
  }
 ],
 "metadata": {
  "kernelspec": {
   "display_name": "HelloWorld-Claude",
   "language": "python",
   "name": "python3"
  },
  "language_info": {
   "codemirror_mode": {
    "name": "ipython",
    "version": 3
   },
   "file_extension": ".py",
   "mimetype": "text/x-python",
   "name": "python",
   "nbconvert_exporter": "python",
   "pygments_lexer": "ipython3",
   "version": "3.13.2"
  }
 },
 "nbformat": 4,
 "nbformat_minor": 5
}
