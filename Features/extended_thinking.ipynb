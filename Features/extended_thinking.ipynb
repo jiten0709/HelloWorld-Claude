{
 "cells": [
  {
   "cell_type": "markdown",
   "id": "792832ff",
   "metadata": {},
   "source": [
    "# When to Use Extended Thinking\n",
    "The decision is straightforward: use your prompt evaluations. Run your prompts without thinking first, and if the accuracy isn't meeting your requirements after you've already optimized your prompt, then consider enabling extended thinking. It's a tool for when standard prompting isn't quite getting you there."
   ]
  },
  {
   "cell_type": "markdown",
   "id": "ae47102f",
   "metadata": {},
   "source": [
    "# Redacted Thinking\n",
    "Sometimes you'll receive a redacted thinking block instead of readable reasoning text:\n",
    "\n",
    "This happens when Claude's thinking process gets flagged by internal safety systems. The redacted content contains the actual thinking in encrypted form, allowing you to pass the complete message back to Claude in future conversations without losing context."
   ]
  },
  {
   "cell_type": "markdown",
   "id": "ec18aa41",
   "metadata": {},
   "source": [
    "# dependencies"
   ]
  },
  {
   "cell_type": "code",
   "execution_count": 1,
   "id": "1b90b41b",
   "metadata": {},
   "outputs": [
    {
     "name": "stderr",
     "output_type": "stream",
     "text": [
      "2025-08-10 19:04:41 - __main__ - INFO - Anthropic client initialized successfully.\n"
     ]
    }
   ],
   "source": [
    "from anthropic import Anthropic\n",
    "from anthropic.types import Message\n",
    "\n",
    "from dotenv import load_dotenv\n",
    "import os   \n",
    "load_dotenv()\n",
    "\n",
    "import logging\n",
    "logging.basicConfig(\n",
    "    level=logging.INFO, \n",
    "    format='%(asctime)s - %(name)s - %(levelname)s - %(message)s',\n",
    "    datefmt='%Y-%m-%d %H:%M:%S'\n",
    "    )\n",
    "logger = logging.getLogger(__name__)\n",
    "\n",
    "try:\n",
    "    client = Anthropic(\n",
    "        api_key=os.getenv(\"ANTHROPIC_API_KEY\")\n",
    "    )\n",
    "    logger.info(\"Anthropic client initialized successfully.\")\n",
    "except Exception as e:\n",
    "    logger.error(f\"Failed to initialize Anthropic client: {e}\")\n",
    "    raise e"
   ]
  },
  {
   "cell_type": "markdown",
   "id": "41513fde",
   "metadata": {},
   "source": [
    "# global config"
   ]
  },
  {
   "cell_type": "code",
   "execution_count": 2,
   "id": "3c8e275d",
   "metadata": {},
   "outputs": [],
   "source": [
    "MODEL=\"claude-3-7-sonnet-20250219\"\n",
    "TEMPERATURE=1.0"
   ]
  },
  {
   "cell_type": "markdown",
   "id": "85f2f189",
   "metadata": {},
   "source": [
    "# helper functions"
   ]
  },
  {
   "cell_type": "code",
   "execution_count": null,
   "id": "c266fddf",
   "metadata": {},
   "outputs": [],
   "source": [
    "def add_user_message(messages, message_content):\n",
    "    if isinstance(message_content, Message):\n",
    "        user_message = {\n",
    "            \"role\": \"user\",\n",
    "            \"content\": message_content\n",
    "        }\n",
    "    else:\n",
    "        user_message = {\n",
    "            \"role\": \"user\",\n",
    "            \"content\": [{\"type\": \"text\", \"text\": str(message_content)}]}\n",
    "\n",
    "    messages.append(user_message)\n",
    "\n",
    "\n",
    "def add_assistant_message(messages, message_content):\n",
    "    if isinstance(message_content, Message):\n",
    "        assistant_message = {\n",
    "            \"role\": \"assistant\",\n",
    "            \"content\": message_content\n",
    "        }\n",
    "    else:\n",
    "        assistant_message = {\n",
    "            \"role\": \"assistant\",\n",
    "            \"content\": [{\"type\": \"text\", \"text\": message_content}]\n",
    "        }\n",
    "\n",
    "    messages.append(assistant_message)\n",
    "\n",
    "def chat(messages, model=MODEL, temperature=TEMPERATURE, system=None, stop_sequences=None, thinking=False, thinking_budget=1024, tools=None):\n",
    "    try:\n",
    "        params = {\n",
    "            \"model\": model,\n",
    "            \"max_tokens\": 4000,\n",
    "            \"messages\": messages,\n",
    "            \"temperature\": temperature,\n",
    "            \"stop_sequences\": stop_sequences,\n",
    "        }\n",
    "        \n",
    "        if thinking:\n",
    "            params[\"thinking\"] = {\n",
    "                \"type\": \"enabled\",\n",
    "                \"budget_tokens\": thinking_budget\n",
    "            }\n",
    "        \n",
    "        if tools:\n",
    "            params[\"tools\"] = tools\n",
    "\n",
    "        if system:\n",
    "            params[\"system\"] = system\n",
    "\n",
    "        return client.messages.create(**params)\n",
    "    \n",
    "    except Exception as e:\n",
    "        logger.error(f\"Chat failed: {e}\")\n",
    "        raise e\n",
    "    \n",
    "def text_from_message(message):\n",
    "    return \"\\n\".join(\n",
    "        [block.text for block in message.content if block.type == \"text\"]\n",
    "    )"
   ]
  },
  {
   "cell_type": "markdown",
   "id": "f9ab28b5",
   "metadata": {},
   "source": [
    "# main function"
   ]
  },
  {
   "cell_type": "code",
   "execution_count": 4,
   "id": "22962667",
   "metadata": {},
   "outputs": [],
   "source": [
    "def main():\n",
    "    messages = []\n",
    "\n",
    "    add_user_message(messages, \"What is inflation?\")\n",
    "    \n",
    "    response = chat(messages, thinking=True)\n",
    "\n",
    "    return response"
   ]
  },
  {
   "cell_type": "code",
   "execution_count": 5,
   "id": "b8f8952f",
   "metadata": {},
   "outputs": [
    {
     "name": "stderr",
     "output_type": "stream",
     "text": [
      "2025-08-10 19:04:51 - httpx - INFO - HTTP Request: POST https://api.anthropic.com/v1/messages \"HTTP/1.1 200 OK\"\n"
     ]
    },
    {
     "name": "stdout",
     "output_type": "stream",
     "text": [
      "results: Message(id='msg_019794TUBtKMaRJLMucknD8Q', content=[ThinkingBlock(signature='ErUBCkYIBhgCIkCvXvvTVsTV4OHb4k3Xf8PXXd44n4CpZ3ino8dqUio3bUvxSdbFP8FeeKgPSLIVM16rHJHCw8HzRAUuwHNa8LTOEgy1pH+sGV47PB/92+QaDB31miEV867/GoAtyCIwB5oYAQDcjCJdByXWP0Vu/RNTiBDiFkwWX46xXp72zQjTkWZNUPwVxBHDro4isCiYKh1JKV2lIjp7Y5+kzVlO2qcaN3UDCilJ4+h/HF0GNRgC', thinking='Inflation is a term from economics that refers to the general increase in prices of goods and services over time in an economy, which results in a decline in the purchasing power of money. \\n\\nThere are several types of inflation:\\n1. Demand-pull inflation: Occurs when demand for goods and services exceeds supply.\\n2. Cost-push inflation: Happens when the cost of production increases, pushing up prices.\\n3. Built-in inflation: Results from adaptive expectations, often linked to the price/wage spiral.\\n\\nInflation is typically measured by the Consumer Price Index (CPI) or other price indices. Central banks often target a low, stable inflation rate (commonly around 2%) as part of their monetary policy.\\n\\nCauses of inflation can include:\\n- Increase in money supply\\n- National debt\\n- Demand-pull factors\\n- Cost-push factors\\n- Exchange rates\\n- Taxation policy\\n\\nEffects of inflation include:\\n- Decreased purchasing power\\n- Uncertainty for businesses and consumers\\n- Redistribution of income and wealth\\n- Impact on interest rates\\n- Effects on foreign investment and exchange rates\\n\\nThis is a fairly fundamental economic concept that most people have some familiarity with, especially in recent years when many countries have experienced higher inflation.', type='thinking'), TextBlock(citations=None, text=\"# Inflation\\n\\nInflation is the general increase in prices of goods and services in an economy over time, which reduces the purchasing power of money. When inflation occurs, each unit of currency buys fewer goods and services than it did previously.\\n\\n## Key aspects of inflation:\\n\\n- **Measurement**: Typically measured using indices like the Consumer Price Index (CPI), which tracks the average price changes of a basket of common goods and services\\n- **Causes**: Can result from increased demand exceeding supply, rising production costs, expansion of the money supply, or government policies\\n- **Effects**: Reduces purchasing power, can create economic uncertainty, affects interest rates, and may redistribute wealth\\n\\nMost central banks aim to maintain a low, stable inflation rate (often around 2%) to support economic growth while preserving the value of money.\\n\\nIs there a specific aspect of inflation you'd like to explore further?\", type='text')], model='claude-3-7-sonnet-20250219', role='assistant', stop_reason='end_turn', stop_sequence=None, type='message', usage=Usage(cache_creation_input_tokens=0, cache_read_input_tokens=0, input_tokens=39, output_tokens=467, server_tool_use=None, service_tier='standard'))\n"
     ]
    }
   ],
   "source": [
    "results = main()\n",
    "print(\"results:\", results)"
   ]
  },
  {
   "cell_type": "code",
   "execution_count": null,
   "id": "d5caaf97",
   "metadata": {},
   "outputs": [
    {
     "name": "stdout",
     "output_type": "stream",
     "text": [
      "thinking signature: \n",
      "ErUBCkYIBhgCIkCvXvvTVsTV4OHb4k3Xf8PXXd44n4CpZ3ino8dqUio3bUvxSdbFP8FeeKgPSLIVM16rHJHCw8HzRAUuwHNa8LTOEgy1pH+sGV47PB/92+QaDB31miEV867/GoAtyCIwB5oYAQDcjCJdByXWP0Vu/RNTiBDiFkwWX46xXp72zQjTkWZNUPwVxBHDro4isCiYKh1JKV2lIjp7Y5+kzVlO2qcaN3UDCilJ4+h/HF0GNRgC\n",
      "\n",
      "thinking content: \n",
      "Inflation is a term from economics that refers to the general increase in prices of goods and services over time in an economy, which results in a decline in the purchasing power of money. \n",
      "\n",
      "There are several types of inflation:\n",
      "1. Demand-pull inflation: Occurs when demand for goods and services exceeds supply.\n",
      "2. Cost-push inflation: Happens when the cost of production increases, pushing up prices.\n",
      "3. Built-in inflation: Results from adaptive expectations, often linked to the price/wage spiral.\n",
      "\n",
      "Inflation is typically measured by the Consumer Price Index (CPI) or other price indices. Central banks often target a low, stable inflation rate (commonly around 2%) as part of their monetary policy.\n",
      "\n",
      "Causes of inflation can include:\n",
      "- Increase in money supply\n",
      "- National debt\n",
      "- Demand-pull factors\n",
      "- Cost-push factors\n",
      "- Exchange rates\n",
      "- Taxation policy\n",
      "\n",
      "Effects of inflation include:\n",
      "- Decreased purchasing power\n",
      "- Uncertainty for businesses and consumers\n",
      "- Redistribution of income and wealth\n",
      "- Impact on interest rates\n",
      "- Effects on foreign investment and exchange rates\n",
      "\n",
      "This is a fairly fundamental economic concept that most people have some familiarity with, especially in recent years when many countries have experienced higher inflation.\n"
     ]
    }
   ],
   "source": [
    "print(f\"thinking signature: \\n{results.content[0].signature}\")\n",
    "print(f\"\\nthinking content: \\n{results.content[0].thinking}\")"
   ]
  },
  {
   "cell_type": "code",
   "execution_count": null,
   "id": "c610d8e8",
   "metadata": {},
   "outputs": [
    {
     "name": "stdout",
     "output_type": "stream",
     "text": [
      "assistant text response: \n",
      "# Inflation\n",
      "\n",
      "Inflation is the general increase in prices of goods and services in an economy over time, which reduces the purchasing power of money. When inflation occurs, each unit of currency buys fewer goods and services than it did previously.\n",
      "\n",
      "## Key aspects of inflation:\n",
      "\n",
      "- **Measurement**: Typically measured using indices like the Consumer Price Index (CPI), which tracks the average price changes of a basket of common goods and services\n",
      "- **Causes**: Can result from increased demand exceeding supply, rising production costs, expansion of the money supply, or government policies\n",
      "- **Effects**: Reduces purchasing power, can create economic uncertainty, affects interest rates, and may redistribute wealth\n",
      "\n",
      "Most central banks aim to maintain a low, stable inflation rate (often around 2%) to support economic growth while preserving the value of money.\n",
      "\n",
      "Is there a specific aspect of inflation you'd like to explore further?\n"
     ]
    }
   ],
   "source": [
    "print(f\"assistant text response: \\n{results.content[1].text}\")"
   ]
  },
  {
   "cell_type": "code",
   "execution_count": null,
   "id": "e875d2e8",
   "metadata": {},
   "outputs": [],
   "source": []
  }
 ],
 "metadata": {
  "kernelspec": {
   "display_name": "HelloWorld-Claude",
   "language": "python",
   "name": "python3"
  },
  "language_info": {
   "codemirror_mode": {
    "name": "ipython",
    "version": 3
   },
   "file_extension": ".py",
   "mimetype": "text/x-python",
   "name": "python",
   "nbconvert_exporter": "python",
   "pygments_lexer": "ipython3",
   "version": "3.13.2"
  }
 },
 "nbformat": 4,
 "nbformat_minor": 5
}
